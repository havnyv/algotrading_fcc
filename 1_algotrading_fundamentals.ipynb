{
 "cells": [
  {
   "cell_type": "markdown",
   "id": "4601d41e",
   "metadata": {},
   "source": [
    "# Algorithmic Trading Overview"
   ]
  },
  {
   "cell_type": "markdown",
   "id": "ad52b512",
   "metadata": {},
   "source": [
    "**Algorithmic Trading** means using computers to make investment decisions.\n",
    "\n",
    "There are many different types of algorithmic trading. The main difference is their speed of execution."
   ]
  },
  {
   "cell_type": "markdown",
   "id": "6d105460",
   "metadata": {},
   "source": [
    "# The Algorithmic Trading Landscape\n",
    "\n",
    "Here are some of the main players in the algorithmic trading Landscape: \n",
    "\n",
    "- Renaissance Technologies: $615B AUM (assets under management)\n",
    "\n",
    "* AQR (applied quantitative research) Capital management: $61B in AUM\n",
    "\n",
    "- Citadel Securities: $32B in AUM "
   ]
  },
  {
   "cell_type": "markdown",
   "id": "b36fadfd",
   "metadata": {},
   "source": [
    "# Algorithmic Trading & Python \n",
    "\n",
    "Python is the most popular Language for algorithmic trading.\n",
    "\n",
    "However, Python is slow. This means that it is often used as a \"glue language\" to trigger code that runs in other languages.\n",
    "\n",
    "* One common example of this is the NumPy library for Python\n",
    "* NumPy is the most popular Python Library for performing numerical computing\n",
    "* NumPy's core underlying functionality is written in C which is a faster language"
   ]
  },
  {
   "cell_type": "markdown",
   "id": "577364a6",
   "metadata": {},
   "source": [
    "# Algorithmic Trading Process\n",
    "\n",
    "The process of running a quantitative investing strategy can be broken down into the following steps:\n",
    "\n",
    "1. Collect data\n",
    "2. Develop a hypothesis for a strategy\n",
    "3. Backtest that strategy \n",
    "4. Implement the strategy in production"
   ]
  },
  {
   "cell_type": "markdown",
   "id": "ad94c5e8",
   "metadata": {},
   "source": [
    "# What is an API ?\n",
    "\n",
    "An API is an application Programming Interface.\n",
    "API's allow you to interact with someone else's software using your own code.\n",
    "\n",
    "In this course, we'll be using the IEX Cloud API to gather stock market data to make investment decisions."
   ]
  },
  {
   "cell_type": "markdown",
   "id": "a99f8c97",
   "metadata": {},
   "source": [
    "## Types of API requests\n",
    "* GET : Gets the data from a specified location \n",
    "* POST : Adds data to the database exposed by the API(Create only)\n",
    "* PUT : Adds and overwrites data in the database exposed by the API. (Create or replace)\n",
    "* DELETE : Deletes data from the API's database    \n",
    "\n",
    "__A List of other API's__ : https://github.com/public-apis/public-apis"
   ]
  },
  {
   "cell_type": "code",
   "execution_count": null,
   "id": "ceb655bd",
   "metadata": {},
   "outputs": [],
   "source": []
  }
 ],
 "metadata": {
  "kernelspec": {
   "display_name": "Python 3 (ipykernel)",
   "language": "python",
   "name": "python3"
  },
  "language_info": {
   "codemirror_mode": {
    "name": "ipython",
    "version": 3
   },
   "file_extension": ".py",
   "mimetype": "text/x-python",
   "name": "python",
   "nbconvert_exporter": "python",
   "pygments_lexer": "ipython3",
   "version": "3.10.6"
  }
 },
 "nbformat": 4,
 "nbformat_minor": 5
}
