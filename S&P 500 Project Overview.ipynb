{
 "cells": [
  {
   "cell_type": "markdown",
   "id": "06443f13",
   "metadata": {},
   "source": [
    "# Project 1 :\n",
    "# S&P 400 Project Overveiw \n",
    "\n",
    "The S&P 500 is the world's most popular stock market index.\n",
    "\n",
    "Many investment funds are benchmarked to the S&P 500. This means that they seek to replicate the performance of this index by owning all the stocks that are held in the index.\n",
    "\n",
    "One of the most important characteristics of the S&P 500 is that it is market capitalization-weighted.\n",
    "\n",
    "This means that larger companies get a correspondingly larger weight in the index. \n",
    "\n",
    "In the first project of this course, you will build an alternative version of the S&P 500 Index where each company has the same weighting."
   ]
  },
  {
   "cell_type": "markdown",
   "id": "3155db6c",
   "metadata": {},
   "source": [
    "# Project 2 :\n",
    "# Quantitative Momentum screener\n",
    "\n",
    "## Momentum Investing Project Overview \n",
    "\n",
    "Momentum investing means investing in assets that have increased in price that most.\n",
    "\n",
    "To help you understand this, lets consider an example. \n",
    "Imagine that you have the choice between investing in two stocks that have had the following returns over the last year : \n",
    "* Apple (AAPL): 35%\n",
    "* Microsoft (MSFT): 20%\n",
    "\n",
    "A momentum investing strategy would suggest investing in Apple because of its higher recent price return.\n",
    "There  are many other nunces to momentum investing strategies that we will explot throughout this course."
   ]
  },
  {
   "cell_type": "markdown",
   "id": "3dbe0536",
   "metadata": {},
   "source": [
    "# Project 3 :\n",
    "# Quantitative Value screener\n",
    "\n",
    "## Value investing Project Overview \n",
    "\n",
    "Value investing means investing in stocks that are trading below their perceived intrinsic value.\n",
    "Value investing was popularized by investors like Warren Buffet, Seth Klarman, and Benjamin Graham.\n",
    "\n",
    "Creating algorithmic value investing strategies relies on a concept called __multiples__.\n",
    "\n",
    "__Multiples__ are calculated by dividing a company's stock price by some measure of the company's worth like earnings or assets. \n",
    "\n",
    "Here are a few examples of common multiples used in value investing : \n",
    "* Price-to-earnings\n",
    "* Price-to-book-value\n",
    "* Price-to-free-cash-flow\n",
    "\n",
    "Each of the individual multiples used by value investors has its pros and cons.\n",
    "One way to minimize the impact of any specific multiple is by using a __composite__.\n",
    "\n",
    "a __composite__ is just a average of many different strategies."
   ]
  },
  {
   "cell_type": "code",
   "execution_count": null,
   "id": "005a8522",
   "metadata": {},
   "outputs": [],
   "source": []
  },
  {
   "cell_type": "code",
   "execution_count": null,
   "id": "9e10c690",
   "metadata": {},
   "outputs": [],
   "source": []
  },
  {
   "cell_type": "code",
   "execution_count": null,
   "id": "a7313cbc",
   "metadata": {},
   "outputs": [],
   "source": []
  }
 ],
 "metadata": {
  "kernelspec": {
   "display_name": "Python 3 (ipykernel)",
   "language": "python",
   "name": "python3"
  },
  "language_info": {
   "codemirror_mode": {
    "name": "ipython",
    "version": 3
   },
   "file_extension": ".py",
   "mimetype": "text/x-python",
   "name": "python",
   "nbconvert_exporter": "python",
   "pygments_lexer": "ipython3",
   "version": "3.10.6"
  }
 },
 "nbformat": 4,
 "nbformat_minor": 5
}
